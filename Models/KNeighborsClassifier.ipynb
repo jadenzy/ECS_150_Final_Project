{
 "cells": [
  {
   "cell_type": "code",
   "execution_count": 46,
   "metadata": {},
   "outputs": [
    {
     "name": "stdout",
     "output_type": "stream",
     "text": [
      "Neighbors: 1  |  Accuracy: 0.863  |  MSE: 0.370  |  NLL: 4.926\n",
      "Neighbors: 2  |  Accuracy: 0.860  |  MSE: 0.374  |  NLL: 5.046\n",
      "Neighbors: 3  |  Accuracy: 0.883  |  MSE: 0.342  |  NLL: 4.205\n",
      "Neighbors: 4  |  Accuracy: 0.897  |  MSE: 0.321  |  NLL: 3.725\n",
      "Neighbors: 5  |  Accuracy: 0.900  |  MSE: 0.316  |  NLL: 3.604\n",
      "Neighbors: 6  |  Accuracy: 0.890  |  MSE: 0.332  |  NLL: 3.965\n",
      "Neighbors: 7  |  Accuracy: 0.897  |  MSE: 0.321  |  NLL: 3.725\n",
      "Neighbors: 8  |  Accuracy: 0.887  |  MSE: 0.337  |  NLL: 4.085\n",
      "Neighbors: 9  |  Accuracy: 0.890  |  MSE: 0.332  |  NLL: 3.965\n",
      "Neighbors: 10  |  Accuracy: 0.877  |  MSE: 0.351  |  NLL: 4.445\n",
      "Neighbors: 11  |  Accuracy: 0.893  |  MSE: 0.327  |  NLL: 3.845\n",
      "Neighbors: 12  |  Accuracy: 0.877  |  MSE: 0.351  |  NLL: 4.445\n",
      "Neighbors: 13  |  Accuracy: 0.867  |  MSE: 0.365  |  NLL: 4.806\n",
      "Neighbors: 14  |  Accuracy: 0.857  |  MSE: 0.379  |  NLL: 5.166\n",
      "Neighbors: 15  |  Accuracy: 0.863  |  MSE: 0.370  |  NLL: 4.926\n",
      "Neighbors: 16  |  Accuracy: 0.857  |  MSE: 0.379  |  NLL: 5.166\n",
      "Neighbors: 17  |  Accuracy: 0.857  |  MSE: 0.379  |  NLL: 5.166\n",
      "Neighbors: 18  |  Accuracy: 0.850  |  MSE: 0.387  |  NLL: 5.407\n",
      "Neighbors: 19  |  Accuracy: 0.847  |  MSE: 0.392  |  NLL: 5.527\n",
      "Neighbors: 20  |  Accuracy: 0.840  |  MSE: 0.400  |  NLL: 5.767\n"
     ]
    }
   ],
   "source": [
    "import pandas as pd\n",
    "from sklearn.model_selection import train_test_split\n",
    "from sklearn.neighbors import KNeighborsClassifier\n",
    "from sklearn.metrics import accuracy_score, root_mean_squared_error, log_loss\n",
    "from sklearn.preprocessing import StandardScaler\n",
    "\n",
    "df = pd.read_csv(\"../data/The_Cancer_data_1500_V2.csv\")\n",
    "\n",
    "X = df.iloc[:, :8]  # Features (first 8 columns)\n",
    "y = df.iloc[:, 8]   # Target (9th column)\n",
    "\n",
    "X_train, X_test, y_train, y_test = train_test_split(X, y, test_size=0.2, random_state=42)\n",
    "\n",
    "scaler = StandardScaler()\n",
    "X_train_scaled = scaler.fit_transform(X_train)\n",
    "X_test_scaled = scaler.transform(X_test)\n",
    "\n",
    "for neighbors in range (1, 21):\n",
    "    knn = KNeighborsClassifier(n_neighbors=neighbors, leaf_size=40)\n",
    "    knn.fit(X_train_scaled, y_train)\n",
    "    y_pred = knn.predict(X_test_scaled)\n",
    "    y_pred_proba = knn.predict_proba(X_test_scaled)\n",
    "\n",
    "    accuracy = accuracy_score(y_test, y_pred)\n",
    "    mse = root_mean_squared_error(y_test, y_pred)\n",
    "    nll = log_loss(y_test, y_pred)\n",
    "    \n",
    "    print(f\"Neighbors: {neighbors}  |  Accuracy: {accuracy:.3f}  |  MSE: {mse:.3f}  |  NLL: {nll:.3f}\")\n"
   ]
  }
 ],
 "metadata": {
  "kernelspec": {
   "display_name": "aienv",
   "language": "python",
   "name": "python3"
  },
  "language_info": {
   "codemirror_mode": {
    "name": "ipython",
    "version": 3
   },
   "file_extension": ".py",
   "mimetype": "text/x-python",
   "name": "python",
   "nbconvert_exporter": "python",
   "pygments_lexer": "ipython3",
   "version": "3.11.9"
  }
 },
 "nbformat": 4,
 "nbformat_minor": 2
}
