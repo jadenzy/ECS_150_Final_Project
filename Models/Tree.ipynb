{
 "cells": [
  {
   "cell_type": "code",
   "outputs": [],
   "source": [
    "print(\"test\")"
   ],
   "metadata": {
    "collapsed": false
   },
   "id": "a4cbf52117e44b83"
  },
  {
   "cell_type": "code",
   "outputs": [],
   "source": [
    "import pandas as pd\n",
    "from sklearn.model_selection import train_test_split\n",
    "from sklearn.tree import DecisionTreeClassifier\n",
    "from sklearn.ensemble import RandomForestClassifier\n",
    "from sklearn.metrics import accuracy_score, classification_report\n",
    "from sklearn.model_selection import GridSearchCV\n",
    "\n",
    "import pandas as pd\n",
    "\n",
    "# Read the CSV file in the same directory as the code\n",
    "data = pd.read_csv('The_Cancer_data_1500_V2.csv')\n",
    "# cancer_diag_data = pd.read_csv(data, sep = ',', header = 0)\n",
    "print(\"Dataset: \")\n",
    "data.head()\n",
    "df = pd.read_csv(\"../data/The_Cancer_data_1500_V2.csv\")"
   ],
   "metadata": {
    "collapsed": false,
    "is_executing": true
   },
   "id": "b498c07939892974"
  },
  {
   "cell_type": "code",
   "outputs": [],
   "source": [
    "# Separate features and target\n",
    "X = data.drop(columns='Diagnosis')\n",
    "y = data['Diagnosis']\n",
    "\n",
    "# Split the data into training and testing sets (75% training, 25% testing)\n",
    "X_train, X_test, y_train, y_test = train_test_split(X, y, test_size=0.25, random_state=42)"
   ],
   "metadata": {
    "collapsed": false
   },
   "id": "cbded0d04a3cb930"
  },
  {
   "cell_type": "code",
   "outputs": [],
   "source": [
    "# Define the parameter grid\n",
    "param_grid = {\n",
    "    'max_depth': [None, 5, 10, 20, 30],\n",
    "    'min_samples_split': [2, 5, 10, 20],\n",
    "    'min_samples_leaf': [1, 2, 4, 6, 10],\n",
    "    'criterion': ['gini', 'entropy'],\n",
    "    'max_features': [None, 'sqrt', 'log2']\n",
    "}"
   ],
   "metadata": {
    "collapsed": false
   },
   "id": "e55ca1d4392c13a3"
  },
  {
   "cell_type": "code",
   "outputs": [],
   "source": [
    "# Define the parameter grid\n",
    "param_grid = {\n",
    "    'max_depth': [None, 5, 10, 20, 30],\n",
    "    'min_samples_split': [2, 5, 10, 20],\n",
    "}"
   ],
   "metadata": {
    "collapsed": false
   },
   "id": "7ac0f36826e0fa63"
  },
  {
   "cell_type": "code",
   "outputs": [],
   "source": [
    "#function to perform training with entropy\n",
    "decision_tree = DecisionTreeClassifier(random_state=42)\n",
    "random_forest = RandomForestClassifier(random_state=42, n_estimators=100)"
   ],
   "metadata": {
    "collapsed": false
   },
   "id": "f1d1ff58d4bf4933"
  },
  {
   "cell_type": "code",
   "outputs": [],
   "source": [
    "# Initialize GridSearchCV with 5-fold cross-validation\n",
    "grid_search = GridSearchCV(estimator= decision_tree , param_grid=param_grid, cv=5, n_jobs=-1, verbose=1)"
   ],
   "metadata": {
    "collapsed": false
   },
   "id": "6e8365c8e44deccc"
  },
  {
   "cell_type": "code",
   "outputs": [],
   "source": [
    "grid_search.fit(X_train, y_train)\n",
    "print(\"Best parameters:\", grid_search.best_params_)\n",
    "best_decision_tree = grid_search.best_estimator_"
   ],
   "metadata": {
    "collapsed": false
   },
   "id": "c4a4d31f1d046636"
  },
  {
   "cell_type": "code",
   "outputs": [],
   "source": [
    "import pandas as pd\n",
    "import matplotlib.pyplot as plt\n",
    "\n",
    "# Extract results from the grid search\n",
    "cv_results = pd.DataFrame(grid_search.cv_results_)\n",
    "\n",
    "# Sort results by best performance\n",
    "cv_results = cv_results.sort_values(by='rank_test_score')"
   ],
   "metadata": {
    "collapsed": false
   },
   "id": "e53941924df1213f"
  },
  {
   "cell_type": "code",
   "outputs": [],
   "source": [
    "# Scatter plot for mean test score vs. hyperparameter combinations\n",
    "plt.figure(figsize=(10, 6))\n",
    "plt.scatter(range(len(cv_results)), cv_results['mean_test_score'], alpha=0.7)\n",
    "plt.xlabel('Hyperparameter Combinations (Sorted by Performance)')\n",
    "plt.ylabel('Mean Test Score (Cross-Validated)')\n",
    "plt.title('GridSearchCV: Performance of Hyperparameter Combinations')\n",
    "plt.show()"
   ],
   "metadata": {
    "collapsed": false
   },
   "id": "94fa42becd716601"
  },
  {
   "cell_type": "code",
   "outputs": [],
   "source": [
    "import seaborn as sns\n",
    "import numpy as np\n",
    "\n",
    "# Assuming 'param_max_depth' and 'param_min_samples_split' are columns in cv_results_\n",
    "pivot_table = cv_results.pivot_table(values='mean_test_score', \n",
    "                                     index='param_max_depth', \n",
    "                                     columns='param_min_samples_split')\n",
    "\n",
    "plt.figure(figsize=(8, 6))\n",
    "sns.heatmap(pivot_table, annot=True, cmap='viridis', fmt='.3f')\n",
    "plt.title('GridSearchCV: Hyperparameter Performance (Mean Test Score)')\n",
    "plt.xlabel('min_samples_split')\n",
    "plt.ylabel('max_depth')\n",
    "plt.show()"
   ],
   "metadata": {
    "collapsed": false
   },
   "id": "2442fceb3ffab9bc"
  },
  {
   "cell_type": "code",
   "outputs": [],
   "source": [
    "# Display the top 10 combinations and their scores\n",
    "print(cv_results[['params', 'mean_test_score', 'rank_test_score']].head(10))"
   ],
   "metadata": {
    "collapsed": false
   },
   "id": "12f5ad6a67d60f85"
  },
  {
   "cell_type": "code",
   "outputs": [],
   "source": [
    "# Train the models\n",
    "decision_tree.fit(X_train, y_train)\n",
    "random_forest.fit(X_train, y_train)\n",
    "\n",
    "# Make predictions\n",
    "y_pred_tree = decision_tree.predict(X_test)\n",
    "y_pred_forest = random_forest.predict(X_test)\n",
    "\n",
    "# Calculate accuracy and classification reports for both models\n",
    "accuracy_tree = accuracy_score(y_test, y_pred_tree)\n",
    "accuracy_forest = accuracy_score(y_test, y_pred_forest)\n",
    "\n",
    "classification_report_tree = classification_report(y_test, y_pred_tree)\n",
    "classification_report_forest = classification_report(y_test, y_pred_forest)\n",
    "\n",
    "(accuracy_tree, accuracy_forest, classification_report_tree, classification_report_forest)"
   ],
   "metadata": {
    "collapsed": false
   },
   "id": "adc20fce228072db"
  },
  {
   "cell_type": "code",
   "outputs": [],
   "source": [
    "#function to perform training with entropy\n",
    "decision_tree = DecisionTreeClassifier(random_state=42)\n",
    "random_forest = RandomForestClassifier(random_state=42, n_estimators=100)"
   ],
   "metadata": {
    "collapsed": false
   },
   "id": "43b0b1d2529951cf"
  }
 ],
 "metadata": {
  "kernelspec": {
   "display_name": "Python 3",
   "language": "python",
   "name": "python3"
  },
  "language_info": {
   "codemirror_mode": {
    "name": "ipython",
    "version": 2
   },
   "file_extension": ".py",
   "mimetype": "text/x-python",
   "name": "python",
   "nbconvert_exporter": "python",
   "pygments_lexer": "ipython2",
   "version": "2.7.6"
  }
 },
 "nbformat": 4,
 "nbformat_minor": 5
}
