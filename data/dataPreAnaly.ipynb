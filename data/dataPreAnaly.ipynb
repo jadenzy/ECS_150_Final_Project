{
 "cells": [
  {
   "cell_type": "code",
   "execution_count": 4,
   "metadata": {},
   "outputs": [
    {
     "name": "stdout",
     "output_type": "stream",
     "text": [
      "Age                   int64\n",
      "Gender                int64\n",
      "BMI                 float64\n",
      "Smoking               int64\n",
      "GeneticRisk           int64\n",
      "PhysicalActivity    float64\n",
      "AlcoholIntake       float64\n",
      "CancerHistory         int64\n",
      "Diagnosis             int64\n",
      "dtype: object \n",
      "\n",
      "(1500, 9) \n",
      "\n",
      "\n",
      "    Age  Gender        BMI  Smoking  GeneticRisk  PhysicalActivity  \\\n",
      "0   58       1  16.085313        0            1          8.146251   \n",
      "1   71       0  30.828784        0            1          9.361630   \n",
      "2   48       1  38.785084        0            2          5.135179   \n",
      "3   34       0  30.040296        0            0          9.502792   \n",
      "4   62       1  35.479721        0            0          5.356890   \n",
      "\n",
      "   AlcoholIntake  CancerHistory  Diagnosis  \n",
      "0       4.148219              1          1  \n",
      "1       3.519683              0          0  \n",
      "2       4.728368              0          1  \n",
      "3       2.044636              0          0  \n",
      "4       3.309849              0          1   \n",
      "\n",
      "\n",
      "Features shape: (1500, 8)\n",
      "Target shape: (1500,) \n",
      "\n",
      "Feature 'Age' has 0 outliers.\n",
      "Feature 'BMI' has 0 outliers.\n",
      "Feature 'PhysicalActivity' has 0 outliers.\n",
      "Feature 'AlcoholIntake' has 0 outliers.\n"
     ]
    }
   ],
   "source": [
    "import pandas as pd\n",
    "import numpy as np\n",
    "\n",
    "df = pd.read_csv(\"The_Cancer_data_1500_V2.csv\")\n",
    "\n",
    "print(df.dtypes, '\\n')\n",
    "print(df.shape, '\\n')\n",
    "\n",
    "df.describe().T\n",
    "\n",
    "print('\\n', df.head(), '\\n')\n",
    "\n",
    "X = df.iloc[:, :8]  # Features (first 8 columns)\n",
    "y = df.iloc[:, 8]   # Target (9th column)\n",
    "\n",
    "print(\"\\nFeatures shape:\", X.shape)\n",
    "print(\"Target shape:\", y.shape, '\\n')\n",
    "\n",
    "def find_outliers(data):\n",
    "    Q1 = data.quantile(0.25)\n",
    "    Q3 = data.quantile(0.75)\n",
    "    IQR = Q3 - Q1\n",
    "    outliers = ((data < (Q1 - 1.5 * IQR)) | (data > (Q3 + 1.5 * IQR)))\n",
    "    return outliers\n",
    "\n",
    "outliers_dict = {}\n",
    "for feature in X:  \n",
    "    if(feature == 'Age' or feature == 'BMI' or feature == 'PhysicalActivity' or feature == 'AlcoholIntake'):\n",
    "        outliers = find_outliers(X[feature])\n",
    "        outliers_dict[feature] = X[feature][outliers]\n",
    "    \n",
    "for feature, outliers in outliers_dict.items():\n",
    "    print(f\"Feature '{feature}' has {len(outliers)} outliers.\")\n",
    "\n"
   ]
  }
 ],
 "metadata": {
  "kernelspec": {
   "display_name": "aienv",
   "language": "python",
   "name": "python3"
  },
  "language_info": {
   "codemirror_mode": {
    "name": "ipython",
    "version": 3
   },
   "file_extension": ".py",
   "mimetype": "text/x-python",
   "name": "python",
   "nbconvert_exporter": "python",
   "pygments_lexer": "ipython3",
   "version": "3.11.9"
  }
 },
 "nbformat": 4,
 "nbformat_minor": 2
}
